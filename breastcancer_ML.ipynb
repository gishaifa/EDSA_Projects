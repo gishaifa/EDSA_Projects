{
 "cells": [
  {
   "cell_type": "code",
   "execution_count": 1,
   "id": "beedf3b7",
   "metadata": {},
   "outputs": [],
   "source": [
    "from sklearn.model_selection import cross_val_score\n",
    "import numpy as np\n",
    "import pandas as pd \n",
    "import matplotlib.pyplot as plt \n",
    "import seaborn as sns \n",
    "from sklearn.linear_model import LogisticRegression \n",
    "from sklearn.model_selection import train_test_split \n",
    "from sklearn import metrics"
   ]
  },
  {
   "cell_type": "code",
   "execution_count": 2,
   "id": "d563edf3",
   "metadata": {},
   "outputs": [],
   "source": [
    "from sklearn.tree import DecisionTreeClassifier\n",
    "from sklearn.ensemble import BaggingClassifier\n",
    "from sklearn.ensemble import RandomForestRegressor\n",
    "from sklearn.metrics import mean_squared_error as MSE\n",
    "pd.options.display.float_format = '{:,.3f}'.format\n",
    "%matplotlib inline\n",
    "from sklearn.ensemble import VotingClassifier\n",
    "from sklearn.metrics import accuracy_score"
   ]
  },
  {
   "cell_type": "code",
   "execution_count": 3,
   "id": "22262ac0",
   "metadata": {},
   "outputs": [
    {
     "name": "stdout",
     "output_type": "stream",
     "text": [
      "<class 'pandas.core.frame.DataFrame'>\n",
      "RangeIndex: 569 entries, 0 to 568\n",
      "Data columns (total 32 columns):\n",
      " #   Column                   Non-Null Count  Dtype  \n",
      "---  ------                   --------------  -----  \n",
      " 0   diagnosis                569 non-null    object \n",
      " 1   id                       569 non-null    int64  \n",
      " 2   radius_mean              569 non-null    float64\n",
      " 3   texture_mean             569 non-null    float64\n",
      " 4   perimeter_mean           569 non-null    float64\n",
      " 5   area_mean                569 non-null    float64\n",
      " 6   smoothness_mean          569 non-null    float64\n",
      " 7   compactness_mean         569 non-null    float64\n",
      " 8   concavity_mean           569 non-null    float64\n",
      " 9   concave points_mean      569 non-null    float64\n",
      " 10  symmetry_mean            569 non-null    float64\n",
      " 11  fractal_dimension_mean   569 non-null    float64\n",
      " 12  radius_se                569 non-null    float64\n",
      " 13  texture_se               569 non-null    float64\n",
      " 14  perimeter_se             569 non-null    float64\n",
      " 15  area_se                  569 non-null    float64\n",
      " 16  smoothness_se            569 non-null    float64\n",
      " 17  compactness_se           569 non-null    float64\n",
      " 18  concavity_se             569 non-null    float64\n",
      " 19  concave points_se        569 non-null    float64\n",
      " 20  symmetry_se              569 non-null    float64\n",
      " 21  fractal_dimension_se     569 non-null    float64\n",
      " 22  radius_worst             569 non-null    float64\n",
      " 23  texture_worst            569 non-null    float64\n",
      " 24  perimeter_worst          569 non-null    float64\n",
      " 25  area_worst               569 non-null    float64\n",
      " 26  smoothness_worst         569 non-null    float64\n",
      " 27  compactness_worst        569 non-null    float64\n",
      " 28  concavity_worst          569 non-null    float64\n",
      " 29  concave points_worst     569 non-null    float64\n",
      " 30  symmetry_worst           569 non-null    float64\n",
      " 31  fractal_dimension_worst  569 non-null    float64\n",
      "dtypes: float64(30), int64(1), object(1)\n",
      "memory usage: 142.4+ KB\n"
     ]
    },
    {
     "data": {
      "text/html": [
       "<div>\n",
       "<style scoped>\n",
       "    .dataframe tbody tr th:only-of-type {\n",
       "        vertical-align: middle;\n",
       "    }\n",
       "\n",
       "    .dataframe tbody tr th {\n",
       "        vertical-align: top;\n",
       "    }\n",
       "\n",
       "    .dataframe thead th {\n",
       "        text-align: right;\n",
       "    }\n",
       "</style>\n",
       "<table border=\"1\" class=\"dataframe\">\n",
       "  <thead>\n",
       "    <tr style=\"text-align: right;\">\n",
       "      <th></th>\n",
       "      <th>diagnosis</th>\n",
       "      <th>id</th>\n",
       "      <th>radius_mean</th>\n",
       "      <th>texture_mean</th>\n",
       "      <th>perimeter_mean</th>\n",
       "      <th>area_mean</th>\n",
       "      <th>smoothness_mean</th>\n",
       "      <th>compactness_mean</th>\n",
       "      <th>concavity_mean</th>\n",
       "      <th>concave points_mean</th>\n",
       "      <th>...</th>\n",
       "      <th>radius_worst</th>\n",
       "      <th>texture_worst</th>\n",
       "      <th>perimeter_worst</th>\n",
       "      <th>area_worst</th>\n",
       "      <th>smoothness_worst</th>\n",
       "      <th>compactness_worst</th>\n",
       "      <th>concavity_worst</th>\n",
       "      <th>concave points_worst</th>\n",
       "      <th>symmetry_worst</th>\n",
       "      <th>fractal_dimension_worst</th>\n",
       "    </tr>\n",
       "  </thead>\n",
       "  <tbody>\n",
       "    <tr>\n",
       "      <th>0</th>\n",
       "      <td>M</td>\n",
       "      <td>842302</td>\n",
       "      <td>17.990</td>\n",
       "      <td>10.380</td>\n",
       "      <td>122.800</td>\n",
       "      <td>1,001.000</td>\n",
       "      <td>0.118</td>\n",
       "      <td>0.278</td>\n",
       "      <td>0.300</td>\n",
       "      <td>0.147</td>\n",
       "      <td>...</td>\n",
       "      <td>25.380</td>\n",
       "      <td>17.330</td>\n",
       "      <td>184.600</td>\n",
       "      <td>2,019.000</td>\n",
       "      <td>0.162</td>\n",
       "      <td>0.666</td>\n",
       "      <td>0.712</td>\n",
       "      <td>0.265</td>\n",
       "      <td>0.460</td>\n",
       "      <td>0.119</td>\n",
       "    </tr>\n",
       "    <tr>\n",
       "      <th>1</th>\n",
       "      <td>M</td>\n",
       "      <td>842517</td>\n",
       "      <td>20.570</td>\n",
       "      <td>17.770</td>\n",
       "      <td>132.900</td>\n",
       "      <td>1,326.000</td>\n",
       "      <td>0.085</td>\n",
       "      <td>0.079</td>\n",
       "      <td>0.087</td>\n",
       "      <td>0.070</td>\n",
       "      <td>...</td>\n",
       "      <td>24.990</td>\n",
       "      <td>23.410</td>\n",
       "      <td>158.800</td>\n",
       "      <td>1,956.000</td>\n",
       "      <td>0.124</td>\n",
       "      <td>0.187</td>\n",
       "      <td>0.242</td>\n",
       "      <td>0.186</td>\n",
       "      <td>0.275</td>\n",
       "      <td>0.089</td>\n",
       "    </tr>\n",
       "    <tr>\n",
       "      <th>2</th>\n",
       "      <td>M</td>\n",
       "      <td>84300903</td>\n",
       "      <td>19.690</td>\n",
       "      <td>21.250</td>\n",
       "      <td>130.000</td>\n",
       "      <td>1,203.000</td>\n",
       "      <td>0.110</td>\n",
       "      <td>0.160</td>\n",
       "      <td>0.197</td>\n",
       "      <td>0.128</td>\n",
       "      <td>...</td>\n",
       "      <td>23.570</td>\n",
       "      <td>25.530</td>\n",
       "      <td>152.500</td>\n",
       "      <td>1,709.000</td>\n",
       "      <td>0.144</td>\n",
       "      <td>0.424</td>\n",
       "      <td>0.450</td>\n",
       "      <td>0.243</td>\n",
       "      <td>0.361</td>\n",
       "      <td>0.088</td>\n",
       "    </tr>\n",
       "    <tr>\n",
       "      <th>3</th>\n",
       "      <td>M</td>\n",
       "      <td>84348301</td>\n",
       "      <td>11.420</td>\n",
       "      <td>20.380</td>\n",
       "      <td>77.580</td>\n",
       "      <td>386.100</td>\n",
       "      <td>0.142</td>\n",
       "      <td>0.284</td>\n",
       "      <td>0.241</td>\n",
       "      <td>0.105</td>\n",
       "      <td>...</td>\n",
       "      <td>14.910</td>\n",
       "      <td>26.500</td>\n",
       "      <td>98.870</td>\n",
       "      <td>567.700</td>\n",
       "      <td>0.210</td>\n",
       "      <td>0.866</td>\n",
       "      <td>0.687</td>\n",
       "      <td>0.258</td>\n",
       "      <td>0.664</td>\n",
       "      <td>0.173</td>\n",
       "    </tr>\n",
       "    <tr>\n",
       "      <th>4</th>\n",
       "      <td>M</td>\n",
       "      <td>84358402</td>\n",
       "      <td>20.290</td>\n",
       "      <td>14.340</td>\n",
       "      <td>135.100</td>\n",
       "      <td>1,297.000</td>\n",
       "      <td>0.100</td>\n",
       "      <td>0.133</td>\n",
       "      <td>0.198</td>\n",
       "      <td>0.104</td>\n",
       "      <td>...</td>\n",
       "      <td>22.540</td>\n",
       "      <td>16.670</td>\n",
       "      <td>152.200</td>\n",
       "      <td>1,575.000</td>\n",
       "      <td>0.137</td>\n",
       "      <td>0.205</td>\n",
       "      <td>0.400</td>\n",
       "      <td>0.163</td>\n",
       "      <td>0.236</td>\n",
       "      <td>0.077</td>\n",
       "    </tr>\n",
       "  </tbody>\n",
       "</table>\n",
       "<p>5 rows × 32 columns</p>\n",
       "</div>"
      ],
      "text/plain": [
       "  diagnosis        id  radius_mean  texture_mean  perimeter_mean  area_mean  \\\n",
       "0         M    842302       17.990        10.380         122.800  1,001.000   \n",
       "1         M    842517       20.570        17.770         132.900  1,326.000   \n",
       "2         M  84300903       19.690        21.250         130.000  1,203.000   \n",
       "3         M  84348301       11.420        20.380          77.580    386.100   \n",
       "4         M  84358402       20.290        14.340         135.100  1,297.000   \n",
       "\n",
       "   smoothness_mean  compactness_mean  concavity_mean  concave points_mean  \\\n",
       "0            0.118             0.278           0.300                0.147   \n",
       "1            0.085             0.079           0.087                0.070   \n",
       "2            0.110             0.160           0.197                0.128   \n",
       "3            0.142             0.284           0.241                0.105   \n",
       "4            0.100             0.133           0.198                0.104   \n",
       "\n",
       "   ...  radius_worst  texture_worst  perimeter_worst  area_worst  \\\n",
       "0  ...        25.380         17.330          184.600   2,019.000   \n",
       "1  ...        24.990         23.410          158.800   1,956.000   \n",
       "2  ...        23.570         25.530          152.500   1,709.000   \n",
       "3  ...        14.910         26.500           98.870     567.700   \n",
       "4  ...        22.540         16.670          152.200   1,575.000   \n",
       "\n",
       "   smoothness_worst  compactness_worst  concavity_worst  concave points_worst  \\\n",
       "0             0.162              0.666            0.712                 0.265   \n",
       "1             0.124              0.187            0.242                 0.186   \n",
       "2             0.144              0.424            0.450                 0.243   \n",
       "3             0.210              0.866            0.687                 0.258   \n",
       "4             0.137              0.205            0.400                 0.163   \n",
       "\n",
       "   symmetry_worst  fractal_dimension_worst  \n",
       "0           0.460                    0.119  \n",
       "1           0.275                    0.089  \n",
       "2           0.361                    0.088  \n",
       "3           0.664                    0.173  \n",
       "4           0.236                    0.077  \n",
       "\n",
       "[5 rows x 32 columns]"
      ]
     },
     "execution_count": 3,
     "metadata": {},
     "output_type": "execute_result"
    }
   ],
   "source": [
    "breastcancer = pd.read_csv('breastcancer.csv')\n",
    "breastcancer.info()\n",
    "breastcancer.head()"
   ]
  },
  {
   "cell_type": "code",
   "execution_count": 5,
   "id": "578cba04",
   "metadata": {},
   "outputs": [
    {
     "data": {
      "text/html": [
       "<div>\n",
       "<style scoped>\n",
       "    .dataframe tbody tr th:only-of-type {\n",
       "        vertical-align: middle;\n",
       "    }\n",
       "\n",
       "    .dataframe tbody tr th {\n",
       "        vertical-align: top;\n",
       "    }\n",
       "\n",
       "    .dataframe thead th {\n",
       "        text-align: right;\n",
       "    }\n",
       "</style>\n",
       "<table border=\"1\" class=\"dataframe\">\n",
       "  <thead>\n",
       "    <tr style=\"text-align: right;\">\n",
       "      <th></th>\n",
       "      <th>diagnosis</th>\n",
       "      <th>id</th>\n",
       "      <th>radius_mean</th>\n",
       "      <th>texture_mean</th>\n",
       "      <th>perimeter_mean</th>\n",
       "      <th>area_mean</th>\n",
       "      <th>smoothness_mean</th>\n",
       "      <th>compactness_mean</th>\n",
       "      <th>concavity_mean</th>\n",
       "      <th>concave points_mean</th>\n",
       "      <th>...</th>\n",
       "      <th>radius_worst</th>\n",
       "      <th>texture_worst</th>\n",
       "      <th>perimeter_worst</th>\n",
       "      <th>area_worst</th>\n",
       "      <th>smoothness_worst</th>\n",
       "      <th>compactness_worst</th>\n",
       "      <th>concavity_worst</th>\n",
       "      <th>concave points_worst</th>\n",
       "      <th>symmetry_worst</th>\n",
       "      <th>fractal_dimension_worst</th>\n",
       "    </tr>\n",
       "  </thead>\n",
       "  <tbody>\n",
       "    <tr>\n",
       "      <th>564</th>\n",
       "      <td>M</td>\n",
       "      <td>926424</td>\n",
       "      <td>21.560</td>\n",
       "      <td>22.390</td>\n",
       "      <td>142.000</td>\n",
       "      <td>1,479.000</td>\n",
       "      <td>0.111</td>\n",
       "      <td>0.116</td>\n",
       "      <td>0.244</td>\n",
       "      <td>0.139</td>\n",
       "      <td>...</td>\n",
       "      <td>25.450</td>\n",
       "      <td>26.400</td>\n",
       "      <td>166.100</td>\n",
       "      <td>2,027.000</td>\n",
       "      <td>0.141</td>\n",
       "      <td>0.211</td>\n",
       "      <td>0.411</td>\n",
       "      <td>0.222</td>\n",
       "      <td>0.206</td>\n",
       "      <td>0.071</td>\n",
       "    </tr>\n",
       "    <tr>\n",
       "      <th>565</th>\n",
       "      <td>M</td>\n",
       "      <td>926682</td>\n",
       "      <td>20.130</td>\n",
       "      <td>28.250</td>\n",
       "      <td>131.200</td>\n",
       "      <td>1,261.000</td>\n",
       "      <td>0.098</td>\n",
       "      <td>0.103</td>\n",
       "      <td>0.144</td>\n",
       "      <td>0.098</td>\n",
       "      <td>...</td>\n",
       "      <td>23.690</td>\n",
       "      <td>38.250</td>\n",
       "      <td>155.000</td>\n",
       "      <td>1,731.000</td>\n",
       "      <td>0.117</td>\n",
       "      <td>0.192</td>\n",
       "      <td>0.322</td>\n",
       "      <td>0.163</td>\n",
       "      <td>0.257</td>\n",
       "      <td>0.066</td>\n",
       "    </tr>\n",
       "    <tr>\n",
       "      <th>566</th>\n",
       "      <td>M</td>\n",
       "      <td>926954</td>\n",
       "      <td>16.600</td>\n",
       "      <td>28.080</td>\n",
       "      <td>108.300</td>\n",
       "      <td>858.100</td>\n",
       "      <td>0.085</td>\n",
       "      <td>0.102</td>\n",
       "      <td>0.093</td>\n",
       "      <td>0.053</td>\n",
       "      <td>...</td>\n",
       "      <td>18.980</td>\n",
       "      <td>34.120</td>\n",
       "      <td>126.700</td>\n",
       "      <td>1,124.000</td>\n",
       "      <td>0.114</td>\n",
       "      <td>0.309</td>\n",
       "      <td>0.340</td>\n",
       "      <td>0.142</td>\n",
       "      <td>0.222</td>\n",
       "      <td>0.078</td>\n",
       "    </tr>\n",
       "    <tr>\n",
       "      <th>567</th>\n",
       "      <td>M</td>\n",
       "      <td>927241</td>\n",
       "      <td>20.600</td>\n",
       "      <td>29.330</td>\n",
       "      <td>140.100</td>\n",
       "      <td>1,265.000</td>\n",
       "      <td>0.118</td>\n",
       "      <td>0.277</td>\n",
       "      <td>0.351</td>\n",
       "      <td>0.152</td>\n",
       "      <td>...</td>\n",
       "      <td>25.740</td>\n",
       "      <td>39.420</td>\n",
       "      <td>184.600</td>\n",
       "      <td>1,821.000</td>\n",
       "      <td>0.165</td>\n",
       "      <td>0.868</td>\n",
       "      <td>0.939</td>\n",
       "      <td>0.265</td>\n",
       "      <td>0.409</td>\n",
       "      <td>0.124</td>\n",
       "    </tr>\n",
       "    <tr>\n",
       "      <th>568</th>\n",
       "      <td>B</td>\n",
       "      <td>92751</td>\n",
       "      <td>7.760</td>\n",
       "      <td>24.540</td>\n",
       "      <td>47.920</td>\n",
       "      <td>181.000</td>\n",
       "      <td>0.053</td>\n",
       "      <td>0.044</td>\n",
       "      <td>0.000</td>\n",
       "      <td>0.000</td>\n",
       "      <td>...</td>\n",
       "      <td>9.456</td>\n",
       "      <td>30.370</td>\n",
       "      <td>59.160</td>\n",
       "      <td>268.600</td>\n",
       "      <td>0.090</td>\n",
       "      <td>0.064</td>\n",
       "      <td>0.000</td>\n",
       "      <td>0.000</td>\n",
       "      <td>0.287</td>\n",
       "      <td>0.070</td>\n",
       "    </tr>\n",
       "  </tbody>\n",
       "</table>\n",
       "<p>5 rows × 32 columns</p>\n",
       "</div>"
      ],
      "text/plain": [
       "    diagnosis      id  radius_mean  texture_mean  perimeter_mean  area_mean  \\\n",
       "564         M  926424       21.560        22.390         142.000  1,479.000   \n",
       "565         M  926682       20.130        28.250         131.200  1,261.000   \n",
       "566         M  926954       16.600        28.080         108.300    858.100   \n",
       "567         M  927241       20.600        29.330         140.100  1,265.000   \n",
       "568         B   92751        7.760        24.540          47.920    181.000   \n",
       "\n",
       "     smoothness_mean  compactness_mean  concavity_mean  concave points_mean  \\\n",
       "564            0.111             0.116           0.244                0.139   \n",
       "565            0.098             0.103           0.144                0.098   \n",
       "566            0.085             0.102           0.093                0.053   \n",
       "567            0.118             0.277           0.351                0.152   \n",
       "568            0.053             0.044           0.000                0.000   \n",
       "\n",
       "     ...  radius_worst  texture_worst  perimeter_worst  area_worst  \\\n",
       "564  ...        25.450         26.400          166.100   2,027.000   \n",
       "565  ...        23.690         38.250          155.000   1,731.000   \n",
       "566  ...        18.980         34.120          126.700   1,124.000   \n",
       "567  ...        25.740         39.420          184.600   1,821.000   \n",
       "568  ...         9.456         30.370           59.160     268.600   \n",
       "\n",
       "     smoothness_worst  compactness_worst  concavity_worst  \\\n",
       "564             0.141              0.211            0.411   \n",
       "565             0.117              0.192            0.322   \n",
       "566             0.114              0.309            0.340   \n",
       "567             0.165              0.868            0.939   \n",
       "568             0.090              0.064            0.000   \n",
       "\n",
       "     concave points_worst  symmetry_worst  fractal_dimension_worst  \n",
       "564                 0.222           0.206                    0.071  \n",
       "565                 0.163           0.257                    0.066  \n",
       "566                 0.142           0.222                    0.078  \n",
       "567                 0.265           0.409                    0.124  \n",
       "568                 0.000           0.287                    0.070  \n",
       "\n",
       "[5 rows x 32 columns]"
      ]
     },
     "execution_count": 5,
     "metadata": {},
     "output_type": "execute_result"
    }
   ],
   "source": [
    "breastcancer.tail()"
   ]
  },
  {
   "cell_type": "code",
   "execution_count": 9,
   "id": "ac74d600",
   "metadata": {},
   "outputs": [],
   "source": [
    "breastcancer.drop(\"id\",axis=1,inplace=True)"
   ]
  },
  {
   "cell_type": "code",
   "execution_count": 12,
   "id": "2788eb45",
   "metadata": {},
   "outputs": [],
   "source": [
    "breastcancer['diagnosis']=breastcancer['diagnosis'].map({'M':1,'B':0})"
   ]
  },
  {
   "cell_type": "code",
   "execution_count": 13,
   "id": "0325b128",
   "metadata": {},
   "outputs": [
    {
     "data": {
      "text/html": [
       "<div>\n",
       "<style scoped>\n",
       "    .dataframe tbody tr th:only-of-type {\n",
       "        vertical-align: middle;\n",
       "    }\n",
       "\n",
       "    .dataframe tbody tr th {\n",
       "        vertical-align: top;\n",
       "    }\n",
       "\n",
       "    .dataframe thead th {\n",
       "        text-align: right;\n",
       "    }\n",
       "</style>\n",
       "<table border=\"1\" class=\"dataframe\">\n",
       "  <thead>\n",
       "    <tr style=\"text-align: right;\">\n",
       "      <th></th>\n",
       "      <th>diagnosis</th>\n",
       "      <th>radius_mean</th>\n",
       "      <th>texture_mean</th>\n",
       "      <th>perimeter_mean</th>\n",
       "      <th>area_mean</th>\n",
       "      <th>smoothness_mean</th>\n",
       "      <th>compactness_mean</th>\n",
       "      <th>concavity_mean</th>\n",
       "      <th>concave points_mean</th>\n",
       "      <th>symmetry_mean</th>\n",
       "      <th>...</th>\n",
       "      <th>radius_worst</th>\n",
       "      <th>texture_worst</th>\n",
       "      <th>perimeter_worst</th>\n",
       "      <th>area_worst</th>\n",
       "      <th>smoothness_worst</th>\n",
       "      <th>compactness_worst</th>\n",
       "      <th>concavity_worst</th>\n",
       "      <th>concave points_worst</th>\n",
       "      <th>symmetry_worst</th>\n",
       "      <th>fractal_dimension_worst</th>\n",
       "    </tr>\n",
       "  </thead>\n",
       "  <tbody>\n",
       "    <tr>\n",
       "      <th>count</th>\n",
       "      <td>569.000</td>\n",
       "      <td>569.000</td>\n",
       "      <td>569.000</td>\n",
       "      <td>569.000</td>\n",
       "      <td>569.000</td>\n",
       "      <td>569.000</td>\n",
       "      <td>569.000</td>\n",
       "      <td>569.000</td>\n",
       "      <td>569.000</td>\n",
       "      <td>569.000</td>\n",
       "      <td>...</td>\n",
       "      <td>569.000</td>\n",
       "      <td>569.000</td>\n",
       "      <td>569.000</td>\n",
       "      <td>569.000</td>\n",
       "      <td>569.000</td>\n",
       "      <td>569.000</td>\n",
       "      <td>569.000</td>\n",
       "      <td>569.000</td>\n",
       "      <td>569.000</td>\n",
       "      <td>569.000</td>\n",
       "    </tr>\n",
       "    <tr>\n",
       "      <th>mean</th>\n",
       "      <td>0.373</td>\n",
       "      <td>14.127</td>\n",
       "      <td>19.290</td>\n",
       "      <td>91.969</td>\n",
       "      <td>654.889</td>\n",
       "      <td>0.096</td>\n",
       "      <td>0.104</td>\n",
       "      <td>0.089</td>\n",
       "      <td>0.049</td>\n",
       "      <td>0.181</td>\n",
       "      <td>...</td>\n",
       "      <td>16.269</td>\n",
       "      <td>25.677</td>\n",
       "      <td>107.261</td>\n",
       "      <td>880.583</td>\n",
       "      <td>0.132</td>\n",
       "      <td>0.254</td>\n",
       "      <td>0.272</td>\n",
       "      <td>0.115</td>\n",
       "      <td>0.290</td>\n",
       "      <td>0.084</td>\n",
       "    </tr>\n",
       "    <tr>\n",
       "      <th>std</th>\n",
       "      <td>0.484</td>\n",
       "      <td>3.524</td>\n",
       "      <td>4.301</td>\n",
       "      <td>24.299</td>\n",
       "      <td>351.914</td>\n",
       "      <td>0.014</td>\n",
       "      <td>0.053</td>\n",
       "      <td>0.080</td>\n",
       "      <td>0.039</td>\n",
       "      <td>0.027</td>\n",
       "      <td>...</td>\n",
       "      <td>4.833</td>\n",
       "      <td>6.146</td>\n",
       "      <td>33.603</td>\n",
       "      <td>569.357</td>\n",
       "      <td>0.023</td>\n",
       "      <td>0.157</td>\n",
       "      <td>0.209</td>\n",
       "      <td>0.066</td>\n",
       "      <td>0.062</td>\n",
       "      <td>0.018</td>\n",
       "    </tr>\n",
       "    <tr>\n",
       "      <th>min</th>\n",
       "      <td>0.000</td>\n",
       "      <td>6.981</td>\n",
       "      <td>9.710</td>\n",
       "      <td>43.790</td>\n",
       "      <td>143.500</td>\n",
       "      <td>0.053</td>\n",
       "      <td>0.019</td>\n",
       "      <td>0.000</td>\n",
       "      <td>0.000</td>\n",
       "      <td>0.106</td>\n",
       "      <td>...</td>\n",
       "      <td>7.930</td>\n",
       "      <td>12.020</td>\n",
       "      <td>50.410</td>\n",
       "      <td>185.200</td>\n",
       "      <td>0.071</td>\n",
       "      <td>0.027</td>\n",
       "      <td>0.000</td>\n",
       "      <td>0.000</td>\n",
       "      <td>0.157</td>\n",
       "      <td>0.055</td>\n",
       "    </tr>\n",
       "    <tr>\n",
       "      <th>25%</th>\n",
       "      <td>0.000</td>\n",
       "      <td>11.700</td>\n",
       "      <td>16.170</td>\n",
       "      <td>75.170</td>\n",
       "      <td>420.300</td>\n",
       "      <td>0.086</td>\n",
       "      <td>0.065</td>\n",
       "      <td>0.030</td>\n",
       "      <td>0.020</td>\n",
       "      <td>0.162</td>\n",
       "      <td>...</td>\n",
       "      <td>13.010</td>\n",
       "      <td>21.080</td>\n",
       "      <td>84.110</td>\n",
       "      <td>515.300</td>\n",
       "      <td>0.117</td>\n",
       "      <td>0.147</td>\n",
       "      <td>0.115</td>\n",
       "      <td>0.065</td>\n",
       "      <td>0.250</td>\n",
       "      <td>0.071</td>\n",
       "    </tr>\n",
       "    <tr>\n",
       "      <th>50%</th>\n",
       "      <td>0.000</td>\n",
       "      <td>13.370</td>\n",
       "      <td>18.840</td>\n",
       "      <td>86.240</td>\n",
       "      <td>551.100</td>\n",
       "      <td>0.096</td>\n",
       "      <td>0.093</td>\n",
       "      <td>0.062</td>\n",
       "      <td>0.034</td>\n",
       "      <td>0.179</td>\n",
       "      <td>...</td>\n",
       "      <td>14.970</td>\n",
       "      <td>25.410</td>\n",
       "      <td>97.660</td>\n",
       "      <td>686.500</td>\n",
       "      <td>0.131</td>\n",
       "      <td>0.212</td>\n",
       "      <td>0.227</td>\n",
       "      <td>0.100</td>\n",
       "      <td>0.282</td>\n",
       "      <td>0.080</td>\n",
       "    </tr>\n",
       "    <tr>\n",
       "      <th>75%</th>\n",
       "      <td>1.000</td>\n",
       "      <td>15.780</td>\n",
       "      <td>21.800</td>\n",
       "      <td>104.100</td>\n",
       "      <td>782.700</td>\n",
       "      <td>0.105</td>\n",
       "      <td>0.130</td>\n",
       "      <td>0.131</td>\n",
       "      <td>0.074</td>\n",
       "      <td>0.196</td>\n",
       "      <td>...</td>\n",
       "      <td>18.790</td>\n",
       "      <td>29.720</td>\n",
       "      <td>125.400</td>\n",
       "      <td>1,084.000</td>\n",
       "      <td>0.146</td>\n",
       "      <td>0.339</td>\n",
       "      <td>0.383</td>\n",
       "      <td>0.161</td>\n",
       "      <td>0.318</td>\n",
       "      <td>0.092</td>\n",
       "    </tr>\n",
       "    <tr>\n",
       "      <th>max</th>\n",
       "      <td>1.000</td>\n",
       "      <td>28.110</td>\n",
       "      <td>39.280</td>\n",
       "      <td>188.500</td>\n",
       "      <td>2,501.000</td>\n",
       "      <td>0.163</td>\n",
       "      <td>0.345</td>\n",
       "      <td>0.427</td>\n",
       "      <td>0.201</td>\n",
       "      <td>0.304</td>\n",
       "      <td>...</td>\n",
       "      <td>36.040</td>\n",
       "      <td>49.540</td>\n",
       "      <td>251.200</td>\n",
       "      <td>4,254.000</td>\n",
       "      <td>0.223</td>\n",
       "      <td>1.058</td>\n",
       "      <td>1.252</td>\n",
       "      <td>0.291</td>\n",
       "      <td>0.664</td>\n",
       "      <td>0.207</td>\n",
       "    </tr>\n",
       "  </tbody>\n",
       "</table>\n",
       "<p>8 rows × 31 columns</p>\n",
       "</div>"
      ],
      "text/plain": [
       "       diagnosis  radius_mean  texture_mean  perimeter_mean  area_mean  \\\n",
       "count    569.000      569.000       569.000         569.000    569.000   \n",
       "mean       0.373       14.127        19.290          91.969    654.889   \n",
       "std        0.484        3.524         4.301          24.299    351.914   \n",
       "min        0.000        6.981         9.710          43.790    143.500   \n",
       "25%        0.000       11.700        16.170          75.170    420.300   \n",
       "50%        0.000       13.370        18.840          86.240    551.100   \n",
       "75%        1.000       15.780        21.800         104.100    782.700   \n",
       "max        1.000       28.110        39.280         188.500  2,501.000   \n",
       "\n",
       "       smoothness_mean  compactness_mean  concavity_mean  concave points_mean  \\\n",
       "count          569.000           569.000         569.000              569.000   \n",
       "mean             0.096             0.104           0.089                0.049   \n",
       "std              0.014             0.053           0.080                0.039   \n",
       "min              0.053             0.019           0.000                0.000   \n",
       "25%              0.086             0.065           0.030                0.020   \n",
       "50%              0.096             0.093           0.062                0.034   \n",
       "75%              0.105             0.130           0.131                0.074   \n",
       "max              0.163             0.345           0.427                0.201   \n",
       "\n",
       "       symmetry_mean  ...  radius_worst  texture_worst  perimeter_worst  \\\n",
       "count        569.000  ...       569.000        569.000          569.000   \n",
       "mean           0.181  ...        16.269         25.677          107.261   \n",
       "std            0.027  ...         4.833          6.146           33.603   \n",
       "min            0.106  ...         7.930         12.020           50.410   \n",
       "25%            0.162  ...        13.010         21.080           84.110   \n",
       "50%            0.179  ...        14.970         25.410           97.660   \n",
       "75%            0.196  ...        18.790         29.720          125.400   \n",
       "max            0.304  ...        36.040         49.540          251.200   \n",
       "\n",
       "       area_worst  smoothness_worst  compactness_worst  concavity_worst  \\\n",
       "count     569.000           569.000            569.000          569.000   \n",
       "mean      880.583             0.132              0.254            0.272   \n",
       "std       569.357             0.023              0.157            0.209   \n",
       "min       185.200             0.071              0.027            0.000   \n",
       "25%       515.300             0.117              0.147            0.115   \n",
       "50%       686.500             0.131              0.212            0.227   \n",
       "75%     1,084.000             0.146              0.339            0.383   \n",
       "max     4,254.000             0.223              1.058            1.252   \n",
       "\n",
       "       concave points_worst  symmetry_worst  fractal_dimension_worst  \n",
       "count               569.000         569.000                  569.000  \n",
       "mean                  0.115           0.290                    0.084  \n",
       "std                   0.066           0.062                    0.018  \n",
       "min                   0.000           0.157                    0.055  \n",
       "25%                   0.065           0.250                    0.071  \n",
       "50%                   0.100           0.282                    0.080  \n",
       "75%                   0.161           0.318                    0.092  \n",
       "max                   0.291           0.664                    0.207  \n",
       "\n",
       "[8 rows x 31 columns]"
      ]
     },
     "execution_count": 13,
     "metadata": {},
     "output_type": "execute_result"
    }
   ],
   "source": [
    "breastcancer.describe() "
   ]
  },
  {
   "cell_type": "code",
   "execution_count": 15,
   "id": "2d91f107",
   "metadata": {},
   "outputs": [
    {
     "name": "stderr",
     "output_type": "stream",
     "text": [
      "C:\\Users\\user\\anaconda3\\lib\\site-packages\\seaborn\\_decorators.py:36: FutureWarning: Pass the following variable as a keyword arg: x. From version 0.12, the only valid positional argument will be `data`, and passing other arguments without an explicit keyword will result in an error or misinterpretation.\n",
      "  warnings.warn(\n"
     ]
    },
    {
     "data": {
      "image/png": "[encoded data removed]",
      "text/plain": [
       "<Figure size 432x288 with 1 Axes>"
      ]
     },
     "metadata": {
      "needs_background": "light"
     },
     "output_type": "display_data"
    }
   ],
   "source": [
    "sns.countplot(breastcancer['diagnosis'],label=\"Count\")\n",
    "plt.show()"
   ]
  },
  {
   "cell_type": "code",
   "execution_count": 17,
   "id": "6ee124f7",
   "metadata": {},
   "outputs": [
    {
     "data": {
      "image/png": "[encoded data removed]",
      "text/plain": [
       "<Figure size 1008x1008 with 2 Axes>"
      ]
     },
     "metadata": {
      "needs_background": "light"
     },
     "output_type": "display_data"
    }
   ],
   "source": [
    "corr = breastcancer.corr() \n",
    "plt.figure(figsize=(14,14))\n",
    "sns.heatmap(corr, cbar = True,  square = True,\n",
    "            cmap= 'coolwarm')\n",
    "plt.show()"
   ]
  },
  {
   "cell_type": "code",
   "execution_count": 18,
   "id": "a3aa4598",
   "metadata": {},
   "outputs": [],
   "source": [
    "X = breastcancer[['texture_mean','perimeter_mean','smoothness_mean','compactness_mean','symmetry_mean']]\n",
    "\n",
    "y = breastcancer[['diagnosis']]"
   ]
  },
  {
   "cell_type": "code",
   "execution_count": 19,
   "id": "39f9cd0d",
   "metadata": {},
   "outputs": [],
   "source": [
    "X_train, X_test, y_train, y_test = train_test_split(X, y, test_size= 0.3, random_state=1)"
   ]
  },
  {
   "cell_type": "code",
   "execution_count": 20,
   "id": "fad1ab6d",
   "metadata": {},
   "outputs": [
    {
     "name": "stdout",
     "output_type": "stream",
     "text": [
      "(398, 5)\n",
      "(171, 5)\n",
      "(398, 1)\n",
      "(171, 1)\n"
     ]
    }
   ],
   "source": [
    "print(X_train.shape)\n",
    "print(X_test.shape)\n",
    "print(y_train.shape)\n",
    "print(y_test.shape)"
   ]
  },
  {
   "cell_type": "code",
   "execution_count": 21,
   "id": "03024c97",
   "metadata": {},
   "outputs": [],
   "source": [
    "logr = LogisticRegression()"
   ]
  },
  {
   "cell_type": "code",
   "execution_count": 22,
   "id": "61ab6ba8",
   "metadata": {},
   "outputs": [
    {
     "name": "stderr",
     "output_type": "stream",
     "text": [
      "C:\\Users\\user\\anaconda3\\lib\\site-packages\\sklearn\\utils\\validation.py:63: DataConversionWarning: A column-vector y was passed when a 1d array was expected. Please change the shape of y to (n_samples, ), for example using ravel().\n",
      "  return f(*args, **kwargs)\n"
     ]
    },
    {
     "data": {
      "text/plain": [
       "LogisticRegression()"
      ]
     },
     "execution_count": 22,
     "metadata": {},
     "output_type": "execute_result"
    }
   ],
   "source": [
    "logr.fit(X_train, y_train)"
   ]
  },
  {
   "cell_type": "code",
   "execution_count": 23,
   "id": "d7454f86",
   "metadata": {},
   "outputs": [],
   "source": [
    "y_pred = logr.predict(X_test)"
   ]
  },
  {
   "cell_type": "code",
   "execution_count": 24,
   "id": "a9b3e8a3",
   "metadata": {},
   "outputs": [
    {
     "data": {
      "text/plain": [
       "0.8713450292397661"
      ]
     },
     "execution_count": 24,
     "metadata": {},
     "output_type": "execute_result"
    }
   ],
   "source": [
    "metrics.accuracy_score(y_test, y_pred)"
   ]
  },
  {
   "cell_type": "code",
   "execution_count": 25,
   "id": "50063821",
   "metadata": {},
   "outputs": [
    {
     "data": {
      "text/plain": [
       "array([[99,  9],\n",
       "       [13, 50]], dtype=int64)"
      ]
     },
     "execution_count": 25,
     "metadata": {},
     "output_type": "execute_result"
    }
   ],
   "source": [
    "metrics.confusion_matrix(y_test, y_pred)"
   ]
  },
  {
   "cell_type": "code",
   "execution_count": 26,
   "id": "ba984648",
   "metadata": {},
   "outputs": [],
   "source": [
    "prediction_var = ['texture_mean','perimeter_mean','smoothness_mean','compactness_mean','symmetry_mean']"
   ]
  },
  {
   "cell_type": "code",
   "execution_count": 28,
   "id": "989223fb",
   "metadata": {},
   "outputs": [
    {
     "name": "stdout",
     "output_type": "stream",
     "text": [
      "(398, 31)\n",
      "(171, 31)\n"
     ]
    }
   ],
   "source": [
    "train, test = train_test_split(breastcancer, test_size = 0.3, random_state = 1)\n",
    "print(train.shape)\n",
    "print(test.shape)"
   ]
  },
  {
   "cell_type": "code",
   "execution_count": 29,
   "id": "31a767a0",
   "metadata": {},
   "outputs": [],
   "source": [
    "train_X = train[prediction_var]\n",
    "train_y=train.diagnosis\n",
    "test_X= test[prediction_var] \n",
    "test_y =test.diagnosis  "
   ]
  },
  {
   "cell_type": "code",
   "execution_count": 30,
   "id": "31c34927",
   "metadata": {},
   "outputs": [
    {
     "data": {
      "text/plain": [
       "0.8713450292397661"
      ]
     },
     "execution_count": 30,
     "metadata": {},
     "output_type": "execute_result"
    }
   ],
   "source": [
    "logistic = LogisticRegression()\n",
    "logistic.fit(train_X,train_y)\n",
    "temp=logistic.predict(test_X)\n",
    "metrics.accuracy_score(test_y,temp) "
   ]
  },
  {
   "cell_type": "code",
   "execution_count": 31,
   "id": "6db638a3",
   "metadata": {},
   "outputs": [
    {
     "data": {
      "text/plain": [
       "array([[99,  9],\n",
       "       [13, 50]], dtype=int64)"
      ]
     },
     "execution_count": 31,
     "metadata": {},
     "output_type": "execute_result"
    }
   ],
   "source": [
    "metrics.confusion_matrix(test_y,temp)"
   ]
  },
  {
   "cell_type": "code",
   "execution_count": 32,
   "id": "12d91a41",
   "metadata": {},
   "outputs": [
    {
     "name": "stderr",
     "output_type": "stream",
     "text": [
      "C:\\Users\\user\\anaconda3\\lib\\site-packages\\sklearn\\utils\\validation.py:63: DataConversionWarning: A column-vector y was passed when a 1d array was expected. Please change the shape of y to (n_samples, ), for example using ravel().\n",
      "  return f(*args, **kwargs)\n"
     ]
    },
    {
     "name": "stdout",
     "output_type": "stream",
     "text": [
      "Test set accuracy of bc: 0.89\n"
     ]
    }
   ],
   "source": [
    "dt = DecisionTreeClassifier(random_state=1)\n",
    "\n",
    "bc = BaggingClassifier(base_estimator=dt,\n",
    "                       n_estimators= 300,\n",
    "                       random_state=1)\n",
    "\n",
    "bc.fit(X_train, y_train)\n",
    "\n",
    "y_pred = bc.predict(X_test)\n",
    "\n",
    "acc_test = accuracy_score(y_pred, y_test)\n",
    "print('Test set accuracy of bc: {:.2f}'.format(acc_test)) "
   ]
  },
  {
   "cell_type": "code",
   "execution_count": 33,
   "id": "48bc78e5",
   "metadata": {},
   "outputs": [
    {
     "name": "stderr",
     "output_type": "stream",
     "text": [
      "<ipython-input-33-d3954a5c6cd1>:3: DataConversionWarning: A column-vector y was passed when a 1d array was expected. Please change the shape of y to (n_samples,), for example using ravel().\n",
      "  rf_reg.fit(X_train, y_train)\n"
     ]
    },
    {
     "name": "stdout",
     "output_type": "stream",
     "text": [
      "Test set RMSE: 0.27\n"
     ]
    }
   ],
   "source": [
    "rf_reg = RandomForestRegressor(random_state= 1)\n",
    "\n",
    "rf_reg.fit(X_train, y_train)\n",
    "\n",
    "preds = rf_reg.predict(X_test)\n",
    "\n",
    "rmse = np.sqrt(MSE(preds, y_test))\n",
    "\n",
    "print(\"Test set RMSE: {:.2f}\".format(rmse))"
   ]
  },
  {
   "cell_type": "code",
   "execution_count": 34,
   "id": "4f3b1bfc",
   "metadata": {},
   "outputs": [
    {
     "data": {
      "image/png": "[encoded data removed]",
      "text/plain": [
       "<Figure size 432x288 with 1 Axes>"
      ]
     },
     "metadata": {
      "needs_background": "light"
     },
     "output_type": "display_data"
    }
   ],
   "source": [
    "importances = pd.Series(data=rf_reg.feature_importances_,\n",
    "                        index= X_train.columns)\n",
    "\n",
    "importances_sorted = importances.sort_values()\n",
    "\n",
    "importances_sorted.plot(color='red',\n",
    "                        kind='barh')\n",
    "plt.title('Features Importances')\n",
    "plt.show()"
   ]
  },
  {
   "cell_type": "code",
   "execution_count": 46,
   "id": "2fd4c347",
   "metadata": {},
   "outputs": [],
   "source": [
    "from sklearn.model_selection import GridSearchCV\n",
    "\n",
    "rf_reg = RandomForestRegressor(random_state= 1)\n",
    "params_rf_reg = {\n",
    "    'n_estimators': [100, 350, 500], \n",
    "    'max_features': ['log2', 'auto', 'sqrt'],\n",
    "    'min_samples_leaf': [2, 10, 30]\n",
    "}\n",
    "\n",
    "from sklearn.model_selection import GridSearchCV\n",
    "\n",
    "grid_rf_reg = GridSearchCV(estimator=rf_reg,\n",
    "                       param_grid= params_rf_reg,\n",
    "                       scoring='neg_mean_squared_error',\n",
    "                       cv=5,\n",
    "                       verbose=1,\n",
    "                       n_jobs=8)"
   ]
  },
  {
   "cell_type": "code",
   "execution_count": 47,
   "id": "a8589d19",
   "metadata": {},
   "outputs": [
    {
     "name": "stdout",
     "output_type": "stream",
     "text": [
      "Fitting 5 folds for each of 27 candidates, totalling 135 fits\n"
     ]
    },
    {
     "name": "stderr",
     "output_type": "stream",
     "text": [
      "C:\\Users\\user\\anaconda3\\lib\\site-packages\\sklearn\\model_selection\\_search.py:880: DataConversionWarning: A column-vector y was passed when a 1d array was expected. Please change the shape of y to (n_samples,), for example using ravel().\n",
      "  self.best_estimator_.fit(X, y, **fit_params)\n"
     ]
    },
    {
     "name": "stdout",
     "output_type": "stream",
     "text": [
      "Test RMSE of best model: 0.265\n"
     ]
    }
   ],
   "source": [
    "grid_rf_reg.fit(X_train, y_train)\n",
    "\n",
    "best_model = grid_rf_reg.best_estimator_\n",
    "\n",
    "y_pred = best_model.predict(X_test)\n",
    "\n",
    "rmse_test = np.sqrt(MSE(y_test, y_pred))\n",
    "\n",
    "print('Test RMSE of best model: {:.3f}'.format(rmse_test)) "
   ]
  },
  {
   "cell_type": "code",
   "execution_count": 49,
   "id": "756c6310",
   "metadata": {},
   "outputs": [],
   "source": [
    "import pandas as pd; import numpy as np\n",
    "from sklearn.metrics import accuracy_score,  roc_auc_score\n",
    "from sklearn.model_selection import train_test_split\n",
    "from sklearn.linear_model import LogisticRegression\n",
    "from sklearn.tree import DecisionTreeClassifier\n",
    "from sklearn.ensemble import RandomForestClassifier\n",
    "from sklearn.preprocessing import StandardScaler\n",
    "from sklearn.ensemble import VotingClassifier"
   ]
  },
  {
   "cell_type": "code",
   "execution_count": 50,
   "id": "49f94319",
   "metadata": {},
   "outputs": [],
   "source": [
    "scaler=StandardScaler()\n",
    "\n",
    "X_train = scaler.fit_transform(X_train)\n",
    "\n",
    "X_test = scaler.transform(X_test)\n"
   ]
  },
  {
   "cell_type": "code",
   "execution_count": 51,
   "id": "dddee0ba",
   "metadata": {},
   "outputs": [],
   "source": [
    "logreg = LogisticRegression(random_state=1)\n",
    "dt = DecisionTreeClassifier(min_samples_leaf= 0.13, \n",
    "                            random_state=1)\n",
    "\n",
    "classifiers = [('Logistic Regression', logreg), \n",
    "                             ('Classification Tree', dt)]\n"
   ]
  },
  {
   "cell_type": "code",
   "execution_count": 59,
   "id": "2d2f44c1",
   "metadata": {},
   "outputs": [
    {
     "name": "stdout",
     "output_type": "stream",
     "text": [
      "Voting Classifier: 0.877\n"
     ]
    },
    {
     "name": "stderr",
     "output_type": "stream",
     "text": [
      "C:\\Users\\user\\anaconda3\\lib\\site-packages\\sklearn\\utils\\validation.py:63: DataConversionWarning: A column-vector y was passed when a 1d array was expected. Please change the shape of y to (n_samples, ), for example using ravel().\n",
      "  return f(*args, **kwargs)\n"
     ]
    }
   ],
   "source": [
    " from sklearn.ensemble import VotingClassifier\n",
    "\n",
    "vc = VotingClassifier(estimators=classifiers)     \n",
    "\n",
    "vc.fit(X_train, y_train)   \n",
    "\n",
    "y_pred = vc.predict(X_test)\n",
    "\n",
    "accuracy = accuracy_score(y_pred, y_test)\n",
    "print('Voting Classifier: {:.3f}'.format(accuracy))"
   ]
  },
  {
   "cell_type": "code",
   "execution_count": null,
   "id": "21155142",
   "metadata": {},
   "outputs": [],
   "source": []
  }
 ],
 "metadata": {
  "kernelspec": {
   "display_name": "Python 3",
   "language": "python",
   "name": "python3"
  },
  "language_info": {
   "codemirror_mode": {
    "name": "ipython",
    "version": 3
   },
   "file_extension": ".py",
   "mimetype": "text/x-python",
   "name": "python",
   "nbconvert_exporter": "python",
   "pygments_lexer": "ipython3",
   "version": "3.8.8"
  }
 },
 "nbformat": 4,
 "nbformat_minor": 5
}
